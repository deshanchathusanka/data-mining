{
  "nbformat": 4,
  "nbformat_minor": 0,
  "metadata": {
    "colab": {
      "name": "Associated Rule Mining.ipynb",
      "provenance": [],
      "collapsed_sections": []
    },
    "kernelspec": {
      "name": "python3",
      "display_name": "Python 3"
    },
    "language_info": {
      "name": "python"
    }
  },
  "cells": [
    {
      "cell_type": "markdown",
      "source": [
        "https://www.analyticsvidhya.com/blog/2021/08/python-tutorial-working-with-csv-file-for-data-science/"
      ],
      "metadata": {
        "id": "xz2lMnRFmPRd"
      }
    },
    {
      "cell_type": "code",
      "execution_count": null,
      "metadata": {
        "colab": {
          "base_uri": "https://localhost:8080/"
        },
        "id": "NH78x0wdQxPJ",
        "outputId": "98da9110-d785-4b3a-fdd2-73a94ada0512"
      },
      "outputs": [
        {
          "output_type": "stream",
          "name": "stdout",
          "text": [
            "Drive already mounted at /content/drive; to attempt to forcibly remount, call drive.mount(\"/content/drive\", force_remount=True).\n",
            "ln: failed to create symbolic link '/content/Dataset.Small': File exists\n",
            "ln: failed to create symbolic link '/content/Dataset.Large': File exists\n"
          ]
        }
      ],
      "source": [
        "from google.colab import drive\n",
        "drive.mount('/content/drive')\n",
        "!ln -s \"/content/drive/My Drive/Academic/CSCM35 - Big Data & Data Mining/coursework 2/Dataset.Small\" \"/content/\"\n",
        "!ln -s \"/content/drive/My Drive/Academic/CSCM35 - Big Data & Data Mining/coursework 2/Dataset.Large\" \"/content/\""
      ]
    },
    {
      "cell_type": "code",
      "source": [
        "from itertools import combinations\n",
        "from collections import Counter\n",
        "import numpy as np\n",
        "import csv\n"
      ],
      "metadata": {
        "id": "b5u30WFOTpxp"
      },
      "execution_count": null,
      "outputs": []
    },
    {
      "cell_type": "code",
      "source": [
        "def read_from_file(file_name) :\n",
        "  csvfile = open(file = file_name, mode = 'r') # open file\n",
        "  print(type(csvfile))\n",
        "\n",
        "  csvreader = csv.reader(csvfile, skipinitialspace = True) # csv reader object\n",
        "  rows = [] # empty list\n",
        "  for row in csvreader:\n",
        "    rows.append(row)\n",
        "\n",
        "  csvfile.close() #' close file\n",
        "  return rows\n",
        "\n",
        "def write_to_file(file_name, data) :\n",
        "  file = open(file = file_name, mode = 'w') # file object\n",
        "\n",
        "  csvwriter = csv.writer(file) # csv reader object\n",
        "  for row in data:\n",
        "    csvwriter.writerow(row)\n",
        "\n",
        "  file.close() # close file"
      ],
      "metadata": {
        "id": "c6KxqY0GTQBh"
      },
      "execution_count": null,
      "outputs": []
    },
    {
      "cell_type": "code",
      "source": [
        "transactions = read_from_file('Dataset.Small/GroceryStore.csv') # read transactions or database\n",
        "write_to_file('Transactions.csv', transactions) # write transactions or database into another file"
      ],
      "metadata": {
        "colab": {
          "base_uri": "https://localhost:8080/"
        },
        "id": "VesjogsS1upZ",
        "outputId": "135eced3-e901-4e05-ee31-f7d6c1125186"
      },
      "execution_count": null,
      "outputs": [
        {
          "output_type": "stream",
          "name": "stdout",
          "text": [
            "<class '_io.TextIOWrapper'>\n"
          ]
        }
      ]
    },
    {
      "cell_type": "markdown",
      "source": [
        "Brute-Force Approach\n",
        "\n",
        "$\n",
        "Number\\ of\\ unique\\ items\\ =\\ d\\\\\n",
        "Number\\ of\\ transactions\\ =\\ N\\\\\n",
        "Average\\ width\\ of\\ a\\ transaction=\\ w\\\\ \\\\\n",
        "Number\\ of\\ all\\ possible\\ combinations\\ =\\\n",
        "\\displaystyle\\sum_{r=1} ^{d} c_{r}\\ =\\ 2^d - 1\\\\\n",
        "Complexity\\ =\\ O(Nw2^{d})\n",
        "$"
      ],
      "metadata": {
        "id": "hiiyEGq5r1Xm"
      }
    },
    {
      "cell_type": "code",
      "source": [
        "def brute_force_approach(database, unique_items, min_sup_cnt, item_set_groups):\n",
        "\n",
        "  for item_cnt in item_set_groups: # loop number of itemset groups\n",
        "    item_sets = combinations(unique_items, item_cnt) # create combinations for each itemset group\n",
        "    for item_set in item_sets: # itemset : tuple of items\n",
        "      support_count = np.count_nonzero([all(item in transaction for item in item_set) for transaction in database])\n",
        "      print(support_count)\n",
        "      \n",
        "\n",
        "transactions = read_from_file('Dataset.Small/GroceryStore.csv') # transactions or database\n",
        "database = []\n",
        "for transaction in transactions:\n",
        "  tr_str = ''.join(transaction)\n",
        "  database.append(tr_str.split(','))\n",
        "unique_items = read_from_file('Dataset.Small/Items.txt') # unique items\n",
        "\n",
        "min_sup_cnt = 2\n",
        "item_set_groups = [2]\n",
        "brute_force_approach(database, unique_items[0], min_sup_cnt, item_set_groups)"
      ],
      "metadata": {
        "id": "nxQWILyHvSVr",
        "colab": {
          "base_uri": "https://localhost:8080/"
        },
        "outputId": "a320f3cb-85ed-4c89-ae19-ab555e2b7ae9"
      },
      "execution_count": null,
      "outputs": [
        {
          "output_type": "stream",
          "name": "stdout",
          "text": [
            "<class '_io.TextIOWrapper'>\n",
            "<class '_io.TextIOWrapper'>\n",
            "2\n",
            "0\n",
            "0\n",
            "0\n",
            "1\n",
            "0\n",
            "0\n",
            "2\n",
            "0\n",
            "1\n",
            "0\n",
            "0\n",
            "0\n",
            "4\n",
            "0\n",
            "1\n",
            "3\n",
            "2\n",
            "1\n",
            "0\n",
            "0\n",
            "0\n",
            "0\n",
            "0\n",
            "0\n",
            "0\n",
            "0\n",
            "0\n",
            "1\n",
            "1\n",
            "4\n",
            "3\n",
            "2\n",
            "1\n",
            "0\n",
            "0\n",
            "0\n",
            "0\n",
            "0\n",
            "0\n",
            "2\n",
            "2\n",
            "4\n",
            "2\n",
            "1\n",
            "0\n",
            "3\n",
            "0\n",
            "0\n",
            "1\n",
            "3\n",
            "2\n",
            "4\n",
            "4\n",
            "2\n"
          ]
        }
      ]
    }
  ]
}