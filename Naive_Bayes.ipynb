{
  "nbformat": 4,
  "nbformat_minor": 0,
  "metadata": {
    "colab": {
      "name": "Assignment 2.ipynb",
      "provenance": [],
      "collapsed_sections": []
    },
    "kernelspec": {
      "name": "python3",
      "display_name": "Python 3"
    },
    "language_info": {
      "name": "python"
    }
  },
  "cells": [
    {
      "cell_type": "code",
      "execution_count": null,
      "metadata": {
        "id": "Lpbd2Qn7f7lK"
      },
      "outputs": [],
      "source": [
        "import numpy as np\n",
        "import matplotlib.pyplot as plt\n",
        "\n",
        "from scipy.stats import norm\n",
        "from sklearn import datasets\n",
        "from sklearn.model_selection import train_test_split\n",
        "from scipy.stats import multivariate_normal\n"
      ]
    },
    {
      "cell_type": "code",
      "source": [
        "# import iris dataset \n",
        "iris = datasets.load_iris()\n",
        "X = iris.data  \n",
        "Y = iris.target\n",
        "\n",
        "# stratify dataset accoring to flower categories\n",
        "x_train, x_test, y_train, y_test = train_test_split( X, Y, test_size=0.20, random_state=4, stratify=Y )\n",
        "\n",
        "# verify\n",
        "(unique, counts) = np.unique(y_train, return_counts=True)\n",
        "frequencies = np.asarray((unique, counts)).T\n",
        "print(f'Frequencies of each dataset : \\n{frequencies}')\n"
      ],
      "metadata": {
        "colab": {
          "base_uri": "https://localhost:8080/"
        },
        "id": "9y4BkCnJzBD6",
        "outputId": "f90fb62c-6818-4a27-c5cd-ef12912c04fb"
      },
      "execution_count": 124,
      "outputs": [
        {
          "output_type": "stream",
          "name": "stdout",
          "text": [
            "Frequencies of each dataset : \n",
            "[[ 0 40]\n",
            " [ 1 40]\n",
            " [ 2 40]]\n"
          ]
        }
      ]
    },
    {
      "cell_type": "code",
      "source": [
        "NO_OF_CATEGORIES = len(unique)\n",
        "NO_OF_FEATURE = X.shape[1]\n",
        "NO_OF_TEST_DATA = y_test.size"
      ],
      "metadata": {
        "id": "KnL62Omh2pDq"
      },
      "execution_count": null,
      "outputs": []
    },
    {
      "cell_type": "code",
      "source": [
        "likelihood_pdf_params = np.empty(shape = (3, 4, 2)) # (categories, features, distribution parameters : mean, variance)\n",
        "prior_probs = np.empty(shape = (3, 1)) # (categories, prior probability)\n",
        "\n",
        "for c_index in range(0, NO_OF_CATEGORIES) :\n",
        "\n",
        "  c_data = np.array([x for x in X[np.where(Y==c_index)]]) # (50, 4)\n",
        "  c_data_cnt = c_data.shape[0] \n",
        "  prior_probs[c_index] = c_data_cnt/Y.size\n",
        "\n",
        "  for f_index in range(0, NO_OF_FEATURE) :\n",
        "    c_f_data = c_data[:, f_index] # (4,)\n",
        "    mean = np.mean(c_f_data) # ()\n",
        "    var = np.var(c_f_data) # ()\n",
        "    likelihood_pdf_params[c_index][f_index][0] = mean\n",
        "    likelihood_pdf_params[c_index][f_index][1] = var\n",
        "\n",
        "print(f'Likelihood distribution parameters :\\n {likelihood_pdf_params}')\n",
        "print(f'Prior Probabilities : \\n {prior_probs}')"
      ],
      "metadata": {
        "colab": {
          "base_uri": "https://localhost:8080/"
        },
        "id": "tfspFgjnJB2d",
        "outputId": "bb3e2242-4c7f-4b38-9939-d972058f7978"
      },
      "execution_count": null,
      "outputs": [
        {
          "output_type": "stream",
          "name": "stdout",
          "text": [
            "Likelihood distribution parameters :\n",
            " [[[5.006    0.121764]\n",
            "  [3.428    0.140816]\n",
            "  [1.462    0.029556]\n",
            "  [0.246    0.010884]]\n",
            "\n",
            " [[5.936    0.261104]\n",
            "  [2.77     0.0965  ]\n",
            "  [4.26     0.2164  ]\n",
            "  [1.326    0.038324]]\n",
            "\n",
            " [[6.588    0.396256]\n",
            "  [2.974    0.101924]\n",
            "  [5.552    0.298496]\n",
            "  [2.026    0.073924]]]\n",
            "Prior Probabilities : \n",
            " [[0.33333333]\n",
            " [0.33333333]\n",
            " [0.33333333]]\n"
          ]
        }
      ]
    },
    {
      "cell_type": "code",
      "source": [
        "\n",
        "posterior_probs = np.empty(shape = (NO_OF_TEST_DATA, NO_OF_CATEGORIES)) # (30, 3) = (test data : 20%, categories : 3)\n",
        "\n",
        "for index in range(0, NO_OF_TEST_DATA) :\n",
        "  data = x_test[index] # (4,) : Features\n",
        "  label = y_test[index] # ()\n",
        "\n",
        "  for c_index in range(0, NO_OF_CATEGORIES) : \n",
        "    likelihood_params = likelihood_pdf_params[c_index] # (4, 2) = (featues , dist info = mean, var)\n",
        "    likelihood_means = likelihood_params[:,0] # (4,) = Features\n",
        "    likelihood_var = likelihood_params[:,1] # (4,) = Features\n",
        "\n",
        "    \"\"\"Naive Bayes\"\"\"\n",
        "    independent_posterior_probs = norm.pdf(x = data, loc = likelihood_means, scale = likelihood_var) # (4, 1)\n",
        "    p_c = prior_probs[c_index]\n",
        "    posterior_probs[index][c_index] = np.prod(independent_posterior_probs)*p_c\n",
        "\n",
        "y_pred = posterior_probs.argmax(axis = 1)\n",
        "number_of_success = sum(y_pred == y_test)\n",
        "accuracy = (number_of_success/NO_OF_TEST_DATA)*100\n",
        "print(f'Accuracy : {accuracy}')\n",
        "\n",
        "\n",
        "    \n",
        "\n"
      ],
      "metadata": {
        "colab": {
          "base_uri": "https://localhost:8080/"
        },
        "id": "or_J5uK61BVG",
        "outputId": "009268c9-9050-4607-d638-e34d8a454d74"
      },
      "execution_count": null,
      "outputs": [
        {
          "output_type": "stream",
          "name": "stdout",
          "text": [
            "Accuracy : 96.66666666666667\n"
          ]
        }
      ]
    },
    {
      "cell_type": "code",
      "source": [
        "generated_label = 0\n",
        "generated_data = np.empty((1,5)) * np.nan\n",
        "for cat_dis_param in likelihood_pdf_params :\n",
        "  mean = cat_dis_param[:,0]\n",
        "  var = cat_dis_param[:,1]\n",
        "  cov = np.diag(var)\n",
        "  \n",
        "  \"\"\"reverse sampling\"\"\"\n",
        "  x_generated = multivariate_normal.rvs(mean, cov, 100) \n",
        "  x_generated = np.append(x_generated, (np.ones((100,1),dtype=int))*int(generated_label), axis=1)\n",
        "  generated_data = np.concatenate((generated_data, x_generated), axis=0)\n",
        "  generated_label = generated_label + 1\n",
        "\n",
        "\n",
        "# print(generated_data)\n",
        "plt.figure()\n",
        "cmap = np.array(['red','blue','green'])\n",
        "labels = np.array(generated_data[1:300,4])\n",
        "print(labels.astype(int))\n",
        "plt.scatter(generated_data[1:300,0], generated_data[1:300,1], c=cmap[labels.astype(int)])\n",
        "plt.show()\n",
        "\n",
        "\n",
        "\n",
        "\n",
        "\n",
        "\n"
      ],
      "metadata": {
        "id": "0DyfXCGk0xyA",
        "colab": {
          "base_uri": "https://localhost:8080/",
          "height": 421
        },
        "outputId": "4f5fa0fe-1dba-4c06-b0ca-06283099700f"
      },
      "execution_count": null,
      "outputs": [
        {
          "output_type": "stream",
          "name": "stdout",
          "text": [
            "[0 0 0 0 0 0 0 0 0 0 0 0 0 0 0 0 0 0 0 0 0 0 0 0 0 0 0 0 0 0 0 0 0 0 0 0 0\n",
            " 0 0 0 0 0 0 0 0 0 0 0 0 0 0 0 0 0 0 0 0 0 0 0 0 0 0 0 0 0 0 0 0 0 0 0 0 0\n",
            " 0 0 0 0 0 0 0 0 0 0 0 0 0 0 0 0 0 0 0 0 0 0 0 0 0 0 1 1 1 1 1 1 1 1 1 1 1\n",
            " 1 1 1 1 1 1 1 1 1 1 1 1 1 1 1 1 1 1 1 1 1 1 1 1 1 1 1 1 1 1 1 1 1 1 1 1 1\n",
            " 1 1 1 1 1 1 1 1 1 1 1 1 1 1 1 1 1 1 1 1 1 1 1 1 1 1 1 1 1 1 1 1 1 1 1 1 1\n",
            " 1 1 1 1 1 1 1 1 1 1 1 1 1 1 1 2 2 2 2 2 2 2 2 2 2 2 2 2 2 2 2 2 2 2 2 2 2\n",
            " 2 2 2 2 2 2 2 2 2 2 2 2 2 2 2 2 2 2 2 2 2 2 2 2 2 2 2 2 2 2 2 2 2 2 2 2 2\n",
            " 2 2 2 2 2 2 2 2 2 2 2 2 2 2 2 2 2 2 2 2 2 2 2 2 2 2 2 2 2 2 2 2 2 2 2 2 2\n",
            " 2 2 2]\n"
          ]
        },
        {
          "output_type": "display_data",
          "data": {
            "text/plain": [
              "<Figure size 432x288 with 1 Axes>"
            ],
            "image/png": "[encoded data removed]"
          },
          "metadata": {
            "needs_background": "light"
          }
        }
      ]
    },
    {
      "cell_type": "markdown",
      "source": [
        "Reference :\n",
        "\n",
        "https://www.kaggle.com/anniepyim/essential-classification-algorithms-explained\n",
        "\n",
        "\n",
        "https://www.anotherbookondatascience.com/chapter4.html\n",
        "\n",
        "https://www.delftstack.com/api/scipy/scipy-scipy.stats.multivariate_normal-method/"
      ],
      "metadata": {
        "id": "_cLXLFCKMnG2"
      }
    }
  ]
}